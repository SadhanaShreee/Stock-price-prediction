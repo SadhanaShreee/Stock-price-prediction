{
  "cells": [
    {
      "cell_type": "code",
      "execution_count": null,
      "metadata": {
        "id": "qgocI3bB6Zr-"
      },
      "outputs": [],
      "source": [
        "import numpy as np\n",
        "import pandas as pd\n",
        "import matplotlib.pyplot as plt\n",
        "from sklearn.preprocessing import MinMaxScaler\n",
        "import torch\n",
        "import torch.nn as nn\n",
        "from torch.utils.data import DataLoader, TensorDataset"
      ]
    },
    {
      "cell_type": "code",
      "execution_count": null,
      "metadata": {
        "id": "I5lBoimG6n1M"
      },
      "outputs": [],
      "source": [
        "## Step 1: Load and Preprocess Data\n",
        "# Load training and test datasets\n",
        "df_train = pd.read_csv('trainset.csv')\n",
        "df_test = pd.read_csv('testset.csv')"
      ]
    },
    {
      "cell_type": "code",
      "execution_count": null,
      "metadata": {
        "id": "e8-Y9p-E9eq8"
      },
      "outputs": [],
      "source": [
        "# Use closing prices\n",
        "train_prices = df_train['Close'].values.reshape(-1, 1)\n",
        "test_prices = df_test['Close'].values.reshape(-1, 1)"
      ]
    },
    {
      "cell_type": "code",
      "execution_count": null,
      "metadata": {
        "id": "dbOYkRbM9kla"
      },
      "outputs": [],
      "source": [
        "# Normalize the data based on training set only\n",
        "scaler = MinMaxScaler()\n",
        "scaled_train = scaler.fit_transform(train_prices)\n",
        "scaled_test = scaler.transform(test_prices)"
      ]
    },
    {
      "cell_type": "code",
      "execution_count": null,
      "metadata": {
        "id": "j6ulBhK29mqD"
      },
      "outputs": [],
      "source": [
        "# Create sequences\n",
        "def create_sequences(data, seq_length):\n",
        "    x = []\n",
        "    y = []\n",
        "    for i in range(len(data) - seq_length):\n",
        "        x.append(data[i:i+seq_length])\n",
        "        y.append(data[i+seq_length])\n",
        "    return np.array(x), np.array(y)\n",
        "\n",
        "seq_length = 60\n",
        "x_train, y_train = create_sequences(scaled_train, seq_length)\n",
        "x_test, y_test = create_sequences(scaled_test, seq_length)\n"
      ]
    },
    {
      "cell_type": "code",
      "execution_count": null,
      "metadata": {
        "id": "QkzR9hhm_hws"
      },
      "outputs": [],
      "source": [
        "x_train.shape, y_train.shape, x_test.shape, y_test.shape"
      ]
    },
    {
      "cell_type": "code",
      "execution_count": null,
      "metadata": {
        "id": "Es76fOIu9r_i"
      },
      "outputs": [],
      "source": [
        "# Convert to PyTorch tensors\n",
        "x_train_tensor = torch.tensor(x_train, dtype=torch.float32)\n",
        "y_train_tensor = torch.tensor(y_train, dtype=torch.float32)\n",
        "x_test_tensor = torch.tensor(x_test, dtype=torch.float32)\n",
        "y_test_tensor = torch.tensor(y_test, dtype=torch.float32)\n"
      ]
    },
    {
      "cell_type": "code",
      "execution_count": null,
      "metadata": {
        "id": "Rv12uiYe9wI0"
      },
      "outputs": [],
      "source": [
        "# Create dataset and dataloader\n",
        "train_dataset = TensorDataset(x_train_tensor, y_train_tensor)\n",
        "train_loader = DataLoader(train_dataset, batch_size=64, shuffle=True)"
      ]
    },
    {
      "cell_type": "code",
      "execution_count": null,
      "metadata": {
        "id": "O-9lYRgI97QL"
      },
      "outputs": [],
      "source": [
        "## Step 2: Define RNN Model\n",
        "class RNNModel(nn.Module):\n",
        "    # write your code here\n",
        "\n",
        "\n",
        "\n",
        "\n",
        "\n",
        "\n"
      ]
    },
    {
      "cell_type": "code",
      "execution_count": null,
      "metadata": {
        "id": "EaAR46dm99qb"
      },
      "outputs": [],
      "source": [
        "model = RNNModel()\n",
        "device = torch.device(\"cuda\" if torch.cuda.is_available() else \"cpu\")\n",
        "model = model.to(device)"
      ]
    },
    {
      "cell_type": "code",
      "execution_count": null,
      "metadata": {
        "id": "Tk4FqP53Iqg7"
      },
      "outputs": [],
      "source": [
        "!pip install torchinfo"
      ]
    },
    {
      "cell_type": "code",
      "execution_count": null,
      "metadata": {
        "id": "XAgiRFFK-C1a"
      },
      "outputs": [],
      "source": [
        "from torchinfo import summary\n",
        "\n",
        "# input_size = (batch_size, seq_len, input_size)\n",
        "summary(model, input_size=(64, 60, 1))"
      ]
    },
    {
      "cell_type": "code",
      "execution_count": null,
      "metadata": {
        "id": "FxBUF7agJmiK"
      },
      "outputs": [],
      "source": [
        "criterion =\n",
        "optimizer ="
      ]
    },
    {
      "cell_type": "code",
      "execution_count": null,
      "metadata": {
        "id": "n8ZSJkc1_GgW"
      },
      "outputs": [],
      "source": [
        "## Step 3: Train the Model\n",
        "\n",
        "# Write your code here\n"
      ]
    },
    {
      "cell_type": "code",
      "execution_count": null,
      "metadata": {
        "id": "T4BwLI1Z_Qpk"
      },
      "outputs": [],
      "source": [
        "# Plot training loss\n",
        "print('Name: Vasanthi Sivasankar')\n",
        "print('Register Number:212223040234')\n",
        "plt.plot(train_losses, label='Training Loss')\n",
        "plt.xlabel('Epoch')\n",
        "plt.ylabel('MSE Loss')\n",
        "plt.title('Training Loss Over Epochs')\n",
        "plt.legend()\n",
        "plt.show()\n"
      ]
    },
    {
      "cell_type": "code",
      "execution_count": null,
      "metadata": {
        "id": "YhCCFikk_S8M"
      },
      "outputs": [],
      "source": [
        "## Step 4: Make Predictions on Test Set\n",
        "model.eval()\n",
        "with torch.no_grad():\n",
        "    predicted = model(x_test_tensor.to(device)).cpu().numpy()\n",
        "    actual = y_test_tensor.cpu().numpy()\n",
        "\n",
        "# Inverse transform the predictions and actual values\n",
        "predicted_prices = scaler.inverse_transform(predicted)\n",
        "actual_prices = scaler.inverse_transform(actual)\n",
        "\n",
        "# Plot the predictions vs actual prices\n",
        "print('Name: Vasanthi Sivasankar')\n",
        "print('Register Number:212223040234')\n",
        "plt.figure(figsize=(10, 6))\n",
        "plt.plot(actual_prices, label='Actual Price')\n",
        "plt.plot(predicted_prices, label='Predicted Price')\n",
        "plt.xlabel('Time')\n",
        "plt.ylabel('Price')\n",
        "plt.title('Stock Price Prediction using RNN')\n",
        "plt.legend()\n",
        "plt.show()\n",
        "print(f'Predicted Price: {predicted_prices[-1]}')\n",
        "print(f'Actual Price: {actual_prices[-1]}')"
      ]
    }
  ],
  "metadata": {
    "colab": {
      "provenance": []
    },
    "kernelspec": {
      "display_name": "Python 3",
      "name": "python3"
    },
    "language_info": {
      "name": "python"
    }
  },
  "nbformat": 4,
  "nbformat_minor": 0
}
